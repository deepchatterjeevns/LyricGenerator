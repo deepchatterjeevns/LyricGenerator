{
 "cells": [
  {
   "cell_type": "code",
   "execution_count": 2,
   "metadata": {
    "collapsed": true
   },
   "outputs": [],
   "source": [
    "import pandas as pd\n",
    "from sklearn.utils import shuffle"
   ]
  },
  {
   "cell_type": "code",
   "execution_count": 5,
   "metadata": {},
   "outputs": [],
   "source": [
    "df = pd.read_csv('/Users/sanyambhutani/Desktop/LyricGenerator/billboard_lyrics_1964-2015.csv')\n",
    "#df = pd.read_csv('/home/ubuntu/fastai/courses/dl1/billboard_lyrics_1964-2015.csv')"
   ]
  },
  {
   "cell_type": "code",
   "execution_count": 12,
   "metadata": {},
   "outputs": [
    {
     "data": {
      "text/plain": [
       "' my baby she may not alook like one of those bunnies out of a playboy club but she got somethin much greater than gold crazy bout that girl cause she got so much soulchorus i said she got the kind of lovin kissin and ahuggin sure is mellow glad that im her fellow and i know that she knocks me off my feet have mercy on me cause she knocks me off my feet there is no girl in the whole world that can love me like you domy baby when she walks by all the fellows go oh and i know why its simply cause that girl she looks so fine and if she ever leaves me i would lose my mindchorusyeah everybody in the neighborhood will testify that my girl she looks so good and shes so fine shed give eyesight to the blind and if she ever leaves me i would lose my mindchorusbaby yeah you got that soulful feel yeah its all right mercy mercy '"
      ]
     },
     "execution_count": 12,
     "metadata": {},
     "output_type": "execute_result"
    }
   ],
   "source": [
    "shuffle(df['Lyrics'])"
   ]
  },
  {
   "cell_type": "code",
   "execution_count": 4,
   "metadata": {},
   "outputs": [
    {
     "data": {
      "text/plain": [
       "0        oh yeah in france a skinny man died of a big ...\n",
       "1        aye when i give you these keys homeboy dont m...\n",
       "2        imaginary lovers never turn you down when all...\n",
       "3        oh once upon a lookingfordonnatime there was ...\n",
       "4        i cried a tear you wiped it dry i was confuse...\n",
       "5        cause youre a sky cause youre a sky full of s...\n",
       "6        oh oh oh oh oh oh oh oh oh oh oh oh oh oh oho...\n",
       "7        its yo birthday so i know you want to ride ou...\n",
       "8        the right stuff the right stuff first time wa...\n",
       "9        youve been told so maybe its time that you le...\n",
       "10       now if you feel that you cant go on because a...\n",
       "11       baby please please dont take your love from m...\n",
       "12       ladies up in here tonight no fighting we got ...\n",
       "13       you might wake up some morning to the sound o...\n",
       "14      this is international big mega radio smasher w...\n",
       "15       blame it on the booze got you feeling loose b...\n",
       "16       ima a diva hey ima ima a diva hey ima ima a d...\n",
       "17       where do we go from here now that all other c...\n",
       "18       ooh oh oh oh ooh oh oh oh be careful making w...\n",
       "19      bob seger  the silver bullet band miscellaneou...\n",
       "20       come on play it play it on babyi dont care al...\n",
       "21       you dont have to be beautiful to turn me on i...\n",
       "22       last night you were so into it you told me se...\n",
       "23       but uh anyway you could catch me any day sipp...\n",
       "24       i would like to get to know if i could be the...\n",
       "25       youre now tuned into the mufuckin greatest tu...\n",
       "26       okay guess whos back back again shadys back t...\n",
       "27      she had sulky smile she took her standard pose...\n",
       "28       do you think we have time do you think we hav...\n",
       "29       this time this place misused mistakes too lon...\n",
       "                              ...                        \n",
       "4883     introgotta make a move to a town thats right ...\n",
       "4884     come over hereall you got is this moment the ...\n",
       "4885     whats the sense in sharing this one and only ...\n",
       "4886     hurry hurry step right up see the sideshow in...\n",
       "4887    i was five and he was six  we rode on horses m...\n",
       "4888    a winters day in a deep and dark december i am...\n",
       "4889     yeah right off the back ma the boy got dollar...\n",
       "4890    well im on my way to the city life to a pretty...\n",
       "4891     my chick bad my chick hood my chick do stuff ...\n",
       "4892     see the people walking down the street fall i...\n",
       "4893    she sits on the dock a fishin in the water uh ...\n",
       "4894     i was blown away what could i say it all seem...\n",
       "4895     fumbling his confidence and wondering why the...\n",
       "4896     today is gonna be the day that theyre gonna t...\n",
       "4897     girl you are to me all that a woman should be...\n",
       "4898    i said ̢shotgun shoot em for he runs now do th...\n",
       "4899     i just wanna rock you all night long oh oh oh...\n",
       "4900    you told me you love me you told me you care b...\n",
       "4901     sometimes people play with love falling in lo...\n",
       "4902     yea yea im out that brooklyn now im down in t...\n",
       "4903     i saw him dancin there by the record machine ...\n",
       "4904     perdona si te estoy llamando en este momento ...\n",
       "4905    i got a fresh line up a fresh outfit bout to h...\n",
       "4906    i feel depressed i feel so bad cause youre the...\n",
       "4907     you never tried me always stood right by me m...\n",
       "4908     me not working hard yeah right picture that w...\n",
       "4909    if you if you could return dont let it burn do...\n",
       "4910     la la la la la la la la la la la la yeah la l...\n",
       "4911     i hear the ticking of the clock im lying here...\n",
       "4912     any day now i will hear you say good bye my l...\n",
       "Name: Lyrics, Length: 4913, dtype: object"
      ]
     },
     "execution_count": 4,
     "metadata": {},
     "output_type": "execute_result"
    }
   ],
   "source": [
    "type(df)\n",
    "df = df[df['Lyrics'].notnull()]\n",
    "df2 = df['Lyrics']\n",
    "df2 = shuffle(df2)\n",
    "df2=df2.reset_index(drop=True)\n",
    "df2"
   ]
  },
  {
   "cell_type": "code",
   "execution_count": 13,
   "metadata": {
    "collapsed": true
   },
   "outputs": [],
   "source": [
    "len_ds = len(df2)\n",
    "len_train=int(0.8*len_ds)\n",
    "df_train = df2[:len_train]\n",
    "df_test = df2[len_train:]\n",
    "df_train.to_csv(r'/home/ubuntu/fastai/courses/dl1/Pop_Train.txt',sep=',',index=False)\n",
    "df_test.to_csv(r'/Users/sanyambhutani/Downloads/Pop_test.txt',sep=',',index=False)"
   ]
  }
 ],
 "metadata": {
  "kernelspec": {
   "display_name": "Python 3",
   "language": "python",
   "name": "python3"
  },
  "language_info": {
   "codemirror_mode": {
    "name": "ipython",
    "version": 3
   },
   "file_extension": ".py",
   "mimetype": "text/x-python",
   "name": "python",
   "nbconvert_exporter": "python",
   "pygments_lexer": "ipython3",
   "version": "3.6.1"
  }
 },
 "nbformat": 4,
 "nbformat_minor": 2
}
