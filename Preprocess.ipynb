{
 "cells": [
  {
   "cell_type": "code",
   "execution_count": 1,
   "metadata": {},
   "outputs": [],
   "source": [
    "import pandas as pd\n",
    "from sklearn.utils import shuffle"
   ]
  },
  {
   "cell_type": "code",
   "execution_count": 2,
   "metadata": {},
   "outputs": [],
   "source": [
    "#df = pd.read_csv('/Users/sanyambhutani/Downloads/lyrics.csv')\n",
    "df = pd.read_csv('/home/ubuntu/fastai/courses/dl1/billboard_lyrics_1964-2015.csv')"
   ]
  },
  {
   "cell_type": "code",
   "execution_count": 3,
   "metadata": {},
   "outputs": [
    {
     "data": {
      "text/plain": [
       "0        whats happenin dis ya boy lil jon bme clik wh...\n",
       "1        when you called me up this mornin told me bou...\n",
       "2       the beat goes on the beat goes on drums keep p...\n",
       "3        baby baby alright baby seeing that your loves...\n",
       "4        if you aint got no money take yobroke ass hom...\n",
       "5        hes laughing with another girl and playing wi...\n",
       "6       tonight ooooh this is the night youll see the ...\n",
       "7       john travolta miscellaneous let her in let her...\n",
       "8        kissingah uh huh uh huh baby ah uh huh uh huh...\n",
       "9        how you doin out there yever seem to have one...\n",
       "10       i need a sign to let me know youre here all o...\n",
       "11       new york city you are now rapping with 50 cen...\n",
       "12       theres a stranger in my bed theres a pounding...\n",
       "13       its all the same only the names will change e...\n",
       "14       back in the days when i was young im not a ki...\n",
       "15       party girls dont get hurt cant feel anything ...\n",
       "16       see the people walking down the street fall i...\n",
       "17       strike it up this band is gonna play my tune ...\n",
       "18       our life together is so precious together we ...\n",
       "19       10 9 8 7 6 5 4 3 2 1 injection fellasuhh aah ...\n",
       "20       ben the two of us need look no more we both f...\n",
       "21       give a little bit give a little bit of your l...\n",
       "22      steppin out the weekends open wide fill it up ...\n",
       "23       along the sand lets walk the shore together n...\n",
       "24      muskrat muskrat candle light doin the town and...\n",
       "25       with her winestained lips yeah shes nothing b...\n",
       "26       telegram force and ready i knew this was a bi...\n",
       "27       all the bullshits for the birds you aint noth...\n",
       "28      blue ridge rangers miscellaneous jambalaya on ...\n",
       "29       oh oh oh oh oh sometimes i get a good feeling...\n",
       "                              ...                        \n",
       "4883    ladies and gentlemen as you know we have somet...\n",
       "4884     give it your all girl give it all ya got you ...\n",
       "4885     love hurts love scars love wounds and marks a...\n",
       "4886     now this ss about to kick off this party look...\n",
       "4887                                                  NA \n",
       "4888    sonny  cher baby dont go pretty baby please do...\n",
       "4889     wild kind of look to the day opening eyes imp...\n",
       "4890     blue eyes babys got blue eyes like a deep blu...\n",
       "4891     ill be your light your match your burning sun...\n",
       "4892     clock strikes upon the hour and the sun begin...\n",
       "4893     ive got another confession to make im your fo...\n",
       "4894    mike reno miscellaneous almost paradise i thou...\n",
       "4895     time you found time enough to love and i foun...\n",
       "4896     goso one two three take my hand and come with...\n",
       "4897    is it that weve been together much too long th...\n",
       "4898     hey mr tambourine man play a song for me im n...\n",
       "4899    i still can remember the last time i cried i w...\n",
       "4900     come and get your love come and get your love...\n",
       "4901    ive lost at love before got mad and closed the...\n",
       "4902     i gotta tell you what im feelin inside i coul...\n",
       "4903    you played hooky from school and you cant go o...\n",
       "4904     recite sure is hot out here no i dont mind no...\n",
       "4905    look over yonder what do you see the sun is ar...\n",
       "4906     youll never find as long as you live someone ...\n",
       "4907     ive been watching you from a far for as long ...\n",
       "4908     this hit that ice cold michelle pfeiffer that...\n",
       "4909     if i tell you if i tell you now will you keep...\n",
       "4910     doo doo doo doo doo doo doo doo doo doo doo d...\n",
       "4911     ladies and gentlemen you are listening to the...\n",
       "4912     time can never mend the careless whisper of a...\n",
       "Name: Lyrics, Length: 4913, dtype: object"
      ]
     },
     "execution_count": 3,
     "metadata": {},
     "output_type": "execute_result"
    }
   ],
   "source": [
    "type(df)\n",
    "df = df[df['Lyrics'].notnull()]\n",
    "df2 = df['Lyrics']\n",
    "df2 = shuffle(df2)\n",
    "df2=df2.reset_index(drop=True)\n",
    "df2"
   ]
  },
  {
   "cell_type": "code",
   "execution_count": 13,
   "metadata": {},
   "outputs": [],
   "source": [
    "len_ds = len(df2)\n",
    "len_train=int(0.8*len_ds)\n",
    "df_train = df2[:len_train]\n",
    "df_test = df2[len_train:]\n",
    "df_train.to_csv(r'/home/ubuntu/fastai/courses/dl1/Pop_Train.txt',sep=',',index=False)\n",
    "df_test.to_csv(r'/Users/sanyambhutani/Downloads/Pop_test.txt',sep=',',index=False)"
   ]
  }
 ],
 "metadata": {
  "kernelspec": {
   "display_name": "Python 3",
   "language": "python",
   "name": "python3"
  },
  "language_info": {
   "codemirror_mode": {
    "name": "ipython",
    "version": 3
   },
   "file_extension": ".py",
   "mimetype": "text/x-python",
   "name": "python",
   "nbconvert_exporter": "python",
   "pygments_lexer": "ipython3",
   "version": "3.6.3"
  }
 },
 "nbformat": 4,
 "nbformat_minor": 2
}
