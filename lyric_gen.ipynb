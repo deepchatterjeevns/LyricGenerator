{
 "cells": [
  {
   "cell_type": "code",
   "execution_count": 1,
   "metadata": {},
   "outputs": [
    {
     "name": "stdout",
     "output_type": "stream",
     "text": [
      "\n",
      "\u001b[93m    Warning: no model found for 'en'\u001b[0m\n",
      "\n",
      "    Only loading the 'en' tokenizer.\n",
      "\n"
     ]
    }
   ],
   "source": [
    "%reload_ext autoreload\n",
    "%autoreload 2\n",
    "%matplotlib inline\n",
    "\n",
    "from fastai.learner import *\n",
    "\n",
    "import torchtext\n",
    "from torchtext import vocab, data\n",
    "from torchtext.datasets import language_modeling\n",
    "\n",
    "from fastai.rnn_reg import *\n",
    "from fastai.rnn_train import *\n",
    "from fastai.nlp import *\n",
    "from fastai.lm_rnn import *\n",
    "\n",
    "import dill as pickle"
   ]
  },
  {
   "cell_type": "code",
   "execution_count": 23,
   "metadata": {
    "collapsed": true
   },
   "outputs": [],
   "source": [
    "path = 'Data/'\n",
    "train_path = 'Train/'\n",
    "val_path = 'Test/'"
   ]
  },
  {
   "cell_type": "code",
   "execution_count": 24,
   "metadata": {},
   "outputs": [
    {
     "name": "stdout",
     "output_type": "stream",
     "text": [
      "1133172\r\n"
     ]
    }
   ],
   "source": [
    "# Number of training words\n",
    "!find {path}{train_path} -name '*.txt' | xargs cat | wc -w"
   ]
  },
  {
   "cell_type": "code",
   "execution_count": 26,
   "metadata": {},
   "outputs": [
    {
     "name": "stdout",
     "output_type": "stream",
     "text": [
      "417375\r\n"
     ]
    }
   ],
   "source": [
    "# Number of validation words\n",
    "!find {path}{val_path} -name '*.txt' | xargs cat | wc -w"
   ]
  },
  {
   "cell_type": "code",
   "execution_count": 27,
   "metadata": {},
   "outputs": [
    {
     "data": {
      "text/plain": [
       "[' ridin round town with all the windows down eight track playin all your favrite sounds the rhythm of the bongos fill the park the street musicians tryin to get a startcause its summer summer time is here yes its summer my time of year yes its summer my time of yearstretched out on a blanket in the sand kids of all ages diggin disneyland rappin on the cb radio in your van well give a big ten four to the truckin mancause its summer summer time is here yes its summer my time of year yes its summer my time of yearyoung boys playin stick ball in the street fire hydrants help to beat the heat old man feeding pigeons in the square nighttime finds young lovers walking therecause its summer summer time is here yes its summerin atlantic city or out in malibu or any where between im telling you when you feel those balmy breezes on your face summer time is the best time any placecause its summer summer time is here yes its summer my time of year cause its summer summer time is here yes it is yes its summer my time of year cause its summer summer time is here yes its summer yes it is my time of year ']"
      ]
     },
     "execution_count": 27,
     "metadata": {},
     "output_type": "execute_result"
    }
   ],
   "source": [
    "train_files = !ls {path}{train_path}\n",
    "music = ! cat {path}{train_path}{train_files[42]}\n",
    "music"
   ]
  },
  {
   "cell_type": "markdown",
   "metadata": {},
   "source": [
    "## Tokenize data"
   ]
  },
  {
   "cell_type": "code",
   "execution_count": 14,
   "metadata": {},
   "outputs": [],
   "source": [
    "TEXT = data.Field(lower=True, tokenize=spacy_tok)"
   ]
  },
  {
   "cell_type": "code",
   "execution_count": 15,
   "metadata": {
    "collapsed": true
   },
   "outputs": [],
   "source": [
    "bs = 64\n",
    "bptt = 80"
   ]
  },
  {
   "cell_type": "code",
   "execution_count": 28,
   "metadata": {},
   "outputs": [],
   "source": [
    "files = dict(train=train_path, validation=val_path, test=val_path)\n",
    "md = LanguageModelData.from_text_files(path,\n",
    "                                       TEXT,\n",
    "                                       train=train_path,\n",
    "                                       validation=val_path,\n",
    "                                       test=val_path,\n",
    "                                       bs=bs,\n",
    "                                       bptt=bptt,\n",
    "                                       min_freq=5)"
   ]
  },
  {
   "cell_type": "code",
   "execution_count": 30,
   "metadata": {},
   "outputs": [
    {
     "data": {
      "text/plain": [
       "(231, 6910, 1, 1192016)"
      ]
     },
     "execution_count": 30,
     "metadata": {},
     "output_type": "execute_result"
    }
   ],
   "source": [
    "# batches; # unique tokens in the vocab; # tokens in the training set; # sentences\n",
    "len(md.trn_dl), md.nt, len(md.trn_ds), len(md.trn_ds[0].text)"
   ]
  },
  {
   "cell_type": "code",
   "execution_count": 31,
   "metadata": {},
   "outputs": [
    {
     "data": {
      "text/plain": [
       "['<unk>', '<pad>', 'you', 'i', 'the', 'to', 'and', 'me', 'a', 'nt', 'it', 'my']"
      ]
     },
     "execution_count": 31,
     "metadata": {},
     "output_type": "execute_result"
    }
   ],
   "source": [
    "TEXT.vocab.itos[:12]"
   ]
  },
  {
   "cell_type": "code",
   "execution_count": 33,
   "metadata": {},
   "outputs": [
    {
     "data": {
      "text/plain": [
       "2"
      ]
     },
     "execution_count": 33,
     "metadata": {},
     "output_type": "execute_result"
    }
   ],
   "source": [
    "TEXT.vocab.stoi['you']"
   ]
  },
  {
   "cell_type": "markdown",
   "metadata": {},
   "source": [
    "## Train"
   ]
  },
  {
   "cell_type": "code",
   "execution_count": 34,
   "metadata": {
    "collapsed": true
   },
   "outputs": [],
   "source": [
    "em_sz = 60\n",
    "nh = 300\n",
    "nl = 3"
   ]
  },
  {
   "cell_type": "code",
   "execution_count": 35,
   "metadata": {
    "collapsed": true
   },
   "outputs": [],
   "source": [
    "opt_fn = partial(optim.Adam, betas=(0.7, 0.99))"
   ]
  },
  {
   "cell_type": "code",
   "execution_count": 39,
   "metadata": {
    "collapsed": true
   },
   "outputs": [],
   "source": [
    "learner = md.get_model(opt_fn, em_sz, nh, nl,\n",
    "               dropouti=0.10, dropout=0.10, wdrop=0.2, dropoute=0.03, dropouth=0.10)\n",
    "learner.reg_fn = partial(seq2seq_reg, alpha=2, beta=1)\n",
    "learner.clip=0.3"
   ]
  },
  {
   "cell_type": "code",
   "execution_count": 37,
   "metadata": {},
   "outputs": [
    {
     "data": {
      "application/vnd.jupyter.widget-view+json": {
       "model_id": "96e621bdc6604ee288de872f376ec678",
       "version_major": 2,
       "version_minor": 0
      },
      "text/html": [
       "<p>Failed to display Jupyter Widget of type <code>HBox</code>.</p>\n",
       "<p>\n",
       "  If you're reading this message in the Jupyter Notebook or JupyterLab Notebook, it may mean\n",
       "  that the widgets JavaScript is still loading. If this message persists, it\n",
       "  likely means that the widgets JavaScript library is either not installed or\n",
       "  not enabled. See the <a href=\"https://ipywidgets.readthedocs.io/en/stable/user_install.html\">Jupyter\n",
       "  Widgets Documentation</a> for setup instructions.\n",
       "</p>\n",
       "<p>\n",
       "  If you're reading this message in another frontend (for example, a static\n",
       "  rendering on GitHub or <a href=\"https://nbviewer.jupyter.org/\">NBViewer</a>),\n",
       "  it may mean that your frontend doesn't currently support widgets.\n",
       "</p>\n"
      ],
      "text/plain": [
       "HBox(children=(IntProgress(value=0, description='Epoch', max=15), HTML(value='')))"
      ]
     },
     "metadata": {},
     "output_type": "display_data"
    },
    {
     "name": "stdout",
     "output_type": "stream",
     "text": [
      "[ 0.       6.00133  5.86945]                                \n",
      "[ 1.       5.59261  5.42489]                                \n",
      "[ 2.       5.39982  5.30984]                                \n",
      "[ 3.       5.15129  5.07369]                                \n",
      "[ 4.       4.94446  4.91066]                                \n",
      "[ 5.       4.82815  4.85452]                                \n",
      "[ 6.       4.78972  4.83948]                                \n",
      "[ 7.       4.77114  4.80697]                                \n",
      "[ 8.       4.63997  4.73626]                                \n",
      "[ 9.       4.52654  4.69132]                                \n",
      "[ 10.        4.44034   4.67033]                             \n",
      "[ 11.        4.36855   4.64828]                             \n",
      "[ 12.        4.33756   4.63598]                             \n",
      "[ 13.        4.28277   4.62936]                             \n",
      "[ 14.        4.30507   4.62736]                             \n",
      "\n"
     ]
    }
   ],
   "source": [
    "learner.fit(3e-3, 4, wds=1e-6, cycle_len=1, cycle_mult=2)"
   ]
  },
  {
   "cell_type": "code",
   "execution_count": 40,
   "metadata": {},
   "outputs": [
    {
     "data": {
      "application/vnd.jupyter.widget-view+json": {
       "model_id": "f6b284014bea4155971a6be4976a23cf",
       "version_major": 2,
       "version_minor": 0
      },
      "text/html": [
       "<p>Failed to display Jupyter Widget of type <code>HBox</code>.</p>\n",
       "<p>\n",
       "  If you're reading this message in the Jupyter Notebook or JupyterLab Notebook, it may mean\n",
       "  that the widgets JavaScript is still loading. If this message persists, it\n",
       "  likely means that the widgets JavaScript library is either not installed or\n",
       "  not enabled. See the <a href=\"https://ipywidgets.readthedocs.io/en/stable/user_install.html\">Jupyter\n",
       "  Widgets Documentation</a> for setup instructions.\n",
       "</p>\n",
       "<p>\n",
       "  If you're reading this message in another frontend (for example, a static\n",
       "  rendering on GitHub or <a href=\"https://nbviewer.jupyter.org/\">NBViewer</a>),\n",
       "  it may mean that your frontend doesn't currently support widgets.\n",
       "</p>\n"
      ],
      "text/plain": [
       "HBox(children=(IntProgress(value=0, description='Epoch', max=15), HTML(value='')))"
      ]
     },
     "metadata": {},
     "output_type": "display_data"
    },
    {
     "name": "stdout",
     "output_type": "stream",
     "text": [
      "[ 0.       6.01394  5.8769 ]                                \n",
      "[ 1.       5.64478  5.45252]                                \n",
      "[ 2.       5.46924  5.36473]                                \n",
      "[ 3.       5.23283  5.095  ]                                \n",
      "[ 4.       5.03959  4.96805]                                \n",
      "[ 5.       4.9443   4.90094]                                \n",
      "[ 6.      4.9044  4.8867]                                   \n",
      "[ 7.       4.87283  4.82678]                                \n",
      "[ 8.       4.75775  4.75595]                                \n",
      "[ 9.       4.66624  4.70453]                                \n",
      "[ 10.        4.59726   4.67467]                             \n",
      "[ 11.        4.54458   4.64862]                             \n",
      "[ 12.        4.49682   4.63122]                             \n",
      "[ 13.        4.47893   4.62347]                             \n",
      "[ 14.        4.46012   4.62269]                             \n",
      "\n"
     ]
    }
   ],
   "source": [
    "learner.fit(3e-3, 4, wds=1e-6, cycle_len=1, cycle_mult=2)"
   ]
  },
  {
   "cell_type": "code",
   "execution_count": 41,
   "metadata": {
    "collapsed": true
   },
   "outputs": [],
   "source": [
    "learner.save('increased_dropout_v1')"
   ]
  },
  {
   "cell_type": "code",
   "execution_count": 43,
   "metadata": {
    "collapsed": true
   },
   "outputs": [],
   "source": [
    "learner.load('increased_dropout_v1')"
   ]
  },
  {
   "cell_type": "code",
   "execution_count": 44,
   "metadata": {
    "collapsed": true
   },
   "outputs": [],
   "source": [
    "m=learner.model"
   ]
  },
  {
   "cell_type": "code",
   "execution_count": 45,
   "metadata": {
    "collapsed": true
   },
   "outputs": [],
   "source": [
    "# Define initial word\n",
    "word = 'all'\n",
    "pred = TEXT.vocab.stoi[word]\n",
    "pred = Variable(torch.LongTensor([pred]).cuda())\n",
    "\n",
    "# How many preds to choose from\n",
    "top_n = 3\n",
    "# Set batch size to 1\n",
    "m[0].bs=1\n",
    "# Turn off dropout\n",
    "m.eval()\n",
    "# Reset hidden state\n",
    "m.reset()"
   ]
  },
  {
   "cell_type": "code",
   "execution_count": 46,
   "metadata": {},
   "outputs": [
    {
     "name": "stdout",
     "output_type": "stream",
     "text": [
      "all of my eyes i ve seen you and the world is <unk> i ve seen a way i m not gon make you feel my love and i ve been gone you ll never see me and i m not so <unk> <unk> i m so in <unk> and i know that you are the only <unk> you know that you are the one that you re not in my mind i know i m a friend you re a <unk> <unk> <unk> <unk> and i know you re the <unk> you know that you ll never know that its "
     ]
    }
   ],
   "source": [
    "print(word, end=' ')\n",
    "\n",
    "for _ in range(100):\n",
    "    # Get predictions from model\n",
    "    res = m(pred.unsqueeze(0))[0]\n",
    "    # Select an random word from the top 5 predictions\n",
    "    prob, preds = res[-1].topk(top_n)\n",
    "    random_idx = np.random.choice(top_n)\n",
    "    pred = preds[random_idx]\n",
    "    word = TEXT.vocab.itos[to_np(pred)[0]]\n",
    "    print(word, end=' ')"
   ]
  }
 ],
 "metadata": {
  "kernelspec": {
   "display_name": "Python 3",
   "language": "python",
   "name": "python3"
  },
  "language_info": {
   "codemirror_mode": {
    "name": "ipython",
    "version": 3
   },
   "file_extension": ".py",
   "mimetype": "text/x-python",
   "name": "python",
   "nbconvert_exporter": "python",
   "pygments_lexer": "ipython3",
   "version": "3.6.3"
  }
 },
 "nbformat": 4,
 "nbformat_minor": 2
}
